{
 "cells": [
  {
   "cell_type": "markdown",
   "id": "30a4ce64-f067-433a-a5be-26a4d82abaff",
   "metadata": {
    "tags": []
   },
   "source": [
    "# Bigram Language Modeling using a basic Neural Network for generating Onion-like News Headlines"
   ]
  },
  {
   "cell_type": "markdown",
   "id": "5fc1f96d-f7a6-41b2-9c3c-67b39a3bf2a6",
   "metadata": {
    "tags": []
   },
   "source": [
    "## Imports & Inits"
   ]
  },
  {
   "cell_type": "code",
   "execution_count": 1,
   "id": "3d1145c7",
   "metadata": {
    "ExecuteTime": {
     "end_time": "2022-09-29T19:55:19.912444Z",
     "start_time": "2022-09-29T19:55:19.143987Z"
    }
   },
   "outputs": [],
   "source": [
    "%load_ext autoreload\n",
    "%autoreload 2\n",
    "%config IPCompleter.greedy=True\n",
    "\n",
    "import pdb, sys, warnings, os, json, torch, re\n",
    "warnings.filterwarnings(action='ignore')\n",
    "\n",
    "from IPython.display import display, HTML\n",
    "from pathlib import Path\n",
    "\n",
    "import pandas as pd\n",
    "import numpy as np\n",
    "from collections import Counter\n",
    "import matplotlib.pyplot as plt\n",
    "import seaborn as sns\n",
    "\n",
    "from torch.nn import functional as F\n",
    "\n",
    "np.set_printoptions(precision=4)\n",
    "sns.set_style(\"darkgrid\")\n",
    "%matplotlib inline"
   ]
  },
  {
   "cell_type": "markdown",
   "id": "68870227-2abb-42e2-9b3c-9757f52bdf99",
   "metadata": {
    "tags": []
   },
   "source": [
    "## Data Setup"
   ]
  },
  {
   "cell_type": "code",
   "execution_count": 3,
   "id": "8cc4b39f-c56a-4d74-b633-9d067178c70e",
   "metadata": {},
   "outputs": [
    {
     "data": {
      "text/plain": [
       "(14363, 1)"
      ]
     },
     "execution_count": 3,
     "metadata": {},
     "output_type": "execute_result"
    }
   ],
   "source": [
    "try:\n",
    "  onion_df = pd.read_csv('../data/cleaned_onion_headlines.csv')\n",
    "except FileNotFoundError:\n",
    "  onion_df = pd.read_csv('../data/original_onion_headlines.csv')\n",
    "  onion_df['text'] = onion_df['text'].str.encode('ascii', 'ignore').str.decode('ascii')\n",
    "  onion_df['text'] = onion_df['text'].apply(str.lower)\n",
    "  onion_df['text'] = onion_df['text'].apply(lambda t: re.sub('[$=`+@*#_]', '', t))\n",
    "  onion_df.to_csv('../data/cleaned_onion_headlines.csv', index=None)\n",
    "\n",
    "onion_df.shape"
   ]
  },
  {
   "cell_type": "code",
   "execution_count": 4,
   "id": "6ba21366-c9e9-479a-8e5f-b6822be70480",
   "metadata": {},
   "outputs": [
    {
     "data": {
      "text/plain": [
       "count    14363.000000\n",
       "mean        77.819745\n",
       "std         30.673678\n",
       "min          1.000000\n",
       "25%         56.500000\n",
       "50%         75.000000\n",
       "75%         94.000000\n",
       "max        283.000000\n",
       "Name: length, dtype: float64"
      ]
     },
     "execution_count": 4,
     "metadata": {},
     "output_type": "execute_result"
    }
   ],
   "source": [
    "onion_df['length'] = onion_df['text'].apply(len)\n",
    "onion_df['length'].describe()"
   ]
  },
  {
   "cell_type": "markdown",
   "id": "c0d2544e-98da-4ac9-bb15-46a5248ad5e3",
   "metadata": {},
   "source": [
    "## Bigram Language Model"
   ]
  },
  {
   "cell_type": "code",
   "execution_count": 5,
   "id": "5e330ce8-e357-49bc-8b64-4d019eb9d2c3",
   "metadata": {},
   "outputs": [
    {
     "data": {
      "text/plain": [
       "55"
      ]
     },
     "execution_count": 5,
     "metadata": {},
     "output_type": "execute_result"
    }
   ],
   "source": [
    "texts = onion_df['text'].tolist()\n",
    "vocab = ['#'] + sorted(list(set(' '.join(texts))))\n",
    "stoi = {s:i for i,s in enumerate(vocab)}\n",
    "itos = {i:s for i,s in enumerate(vocab)}\n",
    "len(vocab)"
   ]
  },
  {
   "cell_type": "code",
   "execution_count": 9,
   "id": "eb6d95d1-17ab-49af-8aeb-3579cc0829ee",
   "metadata": {},
   "outputs": [
    {
     "name": "stdout",
     "output_type": "stream",
     "text": [
      "# e\n",
      "e n\n",
      "n t\n",
      "t i\n",
      "i r\n",
      "r e\n",
      "e  \n",
      "  f\n",
      "f a\n",
      "a c\n",
      "c e\n",
      "e b\n",
      "b o\n",
      "o o\n",
      "o k\n",
      "k  \n",
      "  s\n",
      "s t\n",
      "t a\n",
      "a f\n",
      "f f\n",
      "f  \n",
      "  l\n",
      "l a\n",
      "a u\n",
      "u g\n",
      "g h\n",
      "h s\n",
      "s  \n",
      "  a\n",
      "a s\n",
      "s  \n",
      "  m\n",
      "m a\n",
      "a n\n",
      "n  \n",
      "  t\n",
      "t i\n",
      "i g\n",
      "g h\n",
      "h t\n",
      "t e\n",
      "e n\n",
      "n s\n",
      "s  \n",
      "  p\n",
      "p r\n",
      "r i\n",
      "i v\n",
      "v a\n",
      "a c\n",
      "c y\n",
      "y  \n",
      "  s\n",
      "s e\n",
      "e t\n",
      "t t\n",
      "t i\n",
      "i n\n",
      "n g\n",
      "g s\n",
      "s #\n"
     ]
    }
   ],
   "source": [
    "xs,ys = [],[]\n",
    "for text in texts[:1]:\n",
    "  chs = ['#'] + list(text) + ['#']\n",
    "  for ch1, ch2 in zip(chs, chs[1:]):\n",
    "    idx1 = stoi[ch1]\n",
    "    idx2 = stoi[ch2]\n",
    "    print(ch1, ch2)\n",
    "    xs.append(idx1)\n",
    "    ys.append(idx2)\n",
    "\n",
    "xs,ys = torch.tensor(xs),torch.tensor(ys)"
   ]
  },
  {
   "cell_type": "code",
   "execution_count": 12,
   "id": "64217acb-152e-446f-9262-0928513041da",
   "metadata": {},
   "outputs": [
    {
     "data": {
      "text/plain": [
       "tensor([ 0, 32, 41, 47, 36, 45, 32,  1, 33, 28, 30, 32, 29, 42, 42, 38,  1, 46,\n",
       "        47, 28, 33, 33,  1, 39, 28, 48, 34, 35, 46,  1, 28, 46,  1, 40, 28, 41,\n",
       "         1, 47, 36, 34, 35, 47, 32, 41, 46,  1, 43, 45, 36, 49, 28, 30, 52,  1,\n",
       "        46, 32, 47, 47, 36, 41, 34, 46])"
      ]
     },
     "execution_count": 12,
     "metadata": {},
     "output_type": "execute_result"
    }
   ],
   "source": [
    "xs"
   ]
  },
  {
   "cell_type": "code",
   "execution_count": 13,
   "id": "dc396f75-f88a-4f6a-8c2b-c246fa2ec93e",
   "metadata": {},
   "outputs": [
    {
     "data": {
      "text/plain": [
       "tensor([32, 41, 47, 36, 45, 32,  1, 33, 28, 30, 32, 29, 42, 42, 38,  1, 46, 47,\n",
       "        28, 33, 33,  1, 39, 28, 48, 34, 35, 46,  1, 28, 46,  1, 40, 28, 41,  1,\n",
       "        47, 36, 34, 35, 47, 32, 41, 46,  1, 43, 45, 36, 49, 28, 30, 52,  1, 46,\n",
       "        32, 47, 47, 36, 41, 34, 46,  0])"
      ]
     },
     "execution_count": 13,
     "metadata": {},
     "output_type": "execute_result"
    }
   ],
   "source": [
    "ys"
   ]
  },
  {
   "cell_type": "code",
   "execution_count": null,
   "id": "1b976505-925f-410a-8abc-3b43d907e421",
   "metadata": {},
   "outputs": [],
   "source": []
  },
  {
   "cell_type": "markdown",
   "id": "14922bb4-6bb2-4c2e-a209-a949848177ce",
   "metadata": {},
   "source": [
    "Make sure to cast the encoding to `float` because we don't want to pass `int` into the neural network"
   ]
  },
  {
   "cell_type": "code",
   "execution_count": 29,
   "id": "31b80485-5161-475e-9650-e8a7b4bdadb5",
   "metadata": {},
   "outputs": [
    {
     "data": {
      "text/plain": [
       "<matplotlib.image.AxesImage at 0x7fe840d00c10>"
      ]
     },
     "execution_count": 29,
     "metadata": {},
     "output_type": "execute_result"
    },
    {
     "data": {
      "image/png": "[encoded data removed]",
      "text/plain": [
       "<Figure size 640x480 with 1 Axes>"
      ]
     },
     "metadata": {},
     "output_type": "display_data"
    }
   ],
   "source": [
    "xenc = F.one_hot(xs, num_classes=55).float()\n",
    "plt.imshow(xenc)"
   ]
  },
  {
   "cell_type": "code",
   "execution_count": null,
   "id": "f80a3aa1-ac57-4279-8dbf-13607ec638cd",
   "metadata": {},
   "outputs": [],
   "source": [
    "bigram_counts[0]"
   ]
  },
  {
   "cell_type": "code",
   "execution_count": null,
   "id": "231ce4d2-52ee-4fbf-93d6-e4bcd0a0400b",
   "metadata": {},
   "outputs": [],
   "source": [
    "p = bigram_counts[0].float()/bigram_counts[0].sum()\n",
    "p"
   ]
  },
  {
   "cell_type": "code",
   "execution_count": null,
   "id": "b29751b7-7e5a-4988-9b7d-63f1eef226e1",
   "metadata": {},
   "outputs": [],
   "source": [
    "bigram_probs = bigram_counts.float()/bigram_counts.sum(axis=1, keepdim=True)"
   ]
  },
  {
   "cell_type": "code",
   "execution_count": null,
   "id": "c8d1c9dd-44a2-4d98-8338-0d450821ce1a",
   "metadata": {},
   "outputs": [],
   "source": [
    "bigram_probs[0] == p"
   ]
  },
  {
   "cell_type": "code",
   "execution_count": null,
   "id": "16f884b4-0cc7-4524-b49e-1ec86c635fed",
   "metadata": {},
   "outputs": [],
   "source": [
    "g = torch.Generator().manual_seed(2468975301)\n",
    "idx = torch.multinomial(p, num_samples=1, replacement=True, generator=g).item()\n",
    "itos[idx]"
   ]
  },
  {
   "cell_type": "code",
   "execution_count": null,
   "id": "b8854d3c-ef96-4a8e-87a2-567af74e9a85",
   "metadata": {},
   "outputs": [],
   "source": [
    "g = torch.Generator().manual_seed(2468975301)\n",
    "n_headlines = 20\n",
    "for _ in range(n_headlines):\n",
    "  idx = 0\n",
    "  ai_onion = []\n",
    "  while True:\n",
    "    idx = torch.multinomial(bigram_probs[idx], num_samples=1, replacement=True, generator=g).item()\n",
    "    ai_onion.append(itos[idx])\n",
    "    if idx == 0:\n",
    "      break\n",
    "  print(''.join(ai_onion[:-1]))    "
   ]
  },
  {
   "cell_type": "markdown",
   "id": "c5040ca9-fbd6-458a-95fc-c9772d2a3e46",
   "metadata": {},
   "source": [
    "GOAL: Maximize the liklihood of the data w.r.t model parameters (statistical modeling). This is equivalent to:\n",
    "1. maximizing the log liklihood (because log is monotonic)\n",
    "2. minimizing the negative log liklihood\n",
    "3. minimizing the average negative logliklihood"
   ]
  },
  {
   "cell_type": "code",
   "execution_count": null,
   "id": "8d94ab1e-6486-4daa-a3d2-ce5ebd8561db",
   "metadata": {},
   "outputs": [],
   "source": [
    "cnn_headline = 'Trump goes to Supreme Court over Mar-a-Lago search and seizure of documents.'.lower()\n",
    "onion_headline = 'High Schoolers Given Detention For Cutting Class During Active Shooting.'.lower()"
   ]
  },
  {
   "cell_type": "code",
   "execution_count": null,
   "id": "d1de70d2-fefc-4bc9-bd4a-766f11140323",
   "metadata": {},
   "outputs": [],
   "source": [
    "log_likelihood = 0.\n",
    "n = 0\n",
    "for text in texts:\n",
    "  chs = ['#'] + list(text) + ['#']\n",
    "  for ch1, ch2 in zip(chs, chs[1:]):\n",
    "    idx1 = stoi[ch1]\n",
    "    idx2 = stoi[ch2]\n",
    "    prob = bigram_probs[idx1, idx2]\n",
    "    logprob = torch.log(prob)\n",
    "    log_likelihood += logprob\n",
    "    # print(f\"{ch1}{ch2}: {prob:0.4f} {logprob:0.4f}\")\n",
    "    n += 1\n",
    "\n",
    "print(f\"{log_likelihood=}\")\n",
    "nll = -log_likelihood\n",
    "print(f\"{nll=}\")    \n",
    "print(f\"average nll {-log_likelihood/n:0.4f}\")"
   ]
  }
 ],
 "metadata": {
  "kernelspec": {
   "display_name": "Python 3 (ipykernel)",
   "language": "python",
   "name": "python3"
  },
  "language_info": {
   "codemirror_mode": {
    "name": "ipython",
    "version": 3
   },
   "file_extension": ".py",
   "mimetype": "text/x-python",
   "name": "python",
   "nbconvert_exporter": "python",
   "pygments_lexer": "ipython3",
   "version": "3.8.13"
  },
  "toc": {
   "base_numbering": 1,
   "nav_menu": {},
   "number_sections": true,
   "sideBar": true,
   "skip_h1_title": false,
   "title_cell": "Table of Contents",
   "title_sidebar": "Contents",
   "toc_cell": false,
   "toc_position": {},
   "toc_section_display": true,
   "toc_window_display": false
  }
 },
 "nbformat": 4,
 "nbformat_minor": 5
}
